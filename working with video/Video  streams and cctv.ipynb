{
 "cells": [
  {
   "cell_type": "code",
   "execution_count": null,
   "id": "324bcee4",
   "metadata": {},
   "outputs": [],
   "source": [
    "import cv2 \n",
    "\n",
    "cap = cv2.VideoCapture(\"rtsp://wowzaec2demo.streamlock.net/vod/mp4:BigBuckBunny_115k.mov\")\n",
    "\n",
    "while True:\n",
    "    ret, frame = cap.read()\n",
    "\n",
    "    if not ret:\n",
    "        print(\"Error reading frame. Check the RTSP stream.\")\n",
    "        break\n",
    "\n",
    "    cv2.imshow('RTSP Stream', frame)\n",
    "    \n",
    "    if cv2.waitKey(1) == 13:  # 13 is the Enter Key\n",
    "        break\n",
    "\n",
    "# Release camera and close windows\n",
    "cap.release()\n",
    "cv2.destroyAllWindows()\n"
   ]
  },
  {
   "cell_type": "code",
   "execution_count": 2,
   "id": "20ec2e56",
   "metadata": {},
   "outputs": [
    {
     "name": "stderr",
     "output_type": "stream",
     "text": [
      "WARNING: Ignoring invalid distribution -atplotlib (c:\\users\\97798\\anaconda3\\lib\\site-packages)\n",
      "WARNING: Ignoring invalid distribution -atplotlib (c:\\users\\97798\\anaconda3\\lib\\site-packages)\n",
      "WARNING: Ignoring invalid distribution -atplotlib (c:\\users\\97798\\anaconda3\\lib\\site-packages)\n",
      "WARNING: Ignoring invalid distribution -atplotlib (c:\\users\\97798\\anaconda3\\lib\\site-packages)\n",
      "WARNING: Ignoring invalid distribution -atplotlib (c:\\users\\97798\\anaconda3\\lib\\site-packages)\n",
      "WARNING: Ignoring invalid distribution -atplotlib (c:\\users\\97798\\anaconda3\\lib\\site-packages)\n",
      "WARNING: Ignoring invalid distribution -atplotlib (c:\\users\\97798\\anaconda3\\lib\\site-packages)\n"
     ]
    },
    {
     "name": "stdout",
     "output_type": "stream",
     "text": [
      "Collecting imagezmq\n",
      "  Downloading imagezmq-1.1.1-py3-none-any.whl (8.7 kB)\n",
      "Requirement already satisfied: pyzmq>=16.0 in c:\\users\\97798\\anaconda3\\lib\\site-packages (from imagezmq) (22.3.0)\n",
      "Requirement already satisfied: numpy>=1.13 in c:\\users\\97798\\anaconda3\\lib\\site-packages (from imagezmq) (1.23.5)\n",
      "Installing collected packages: imagezmq\n",
      "Successfully installed imagezmq-1.1.1\n"
     ]
    }
   ],
   "source": [
    "!pip install imagezmq\n"
   ]
  },
  {
   "cell_type": "code",
   "execution_count": null,
   "id": "1f871102",
   "metadata": {},
   "outputs": [],
   "source": [
    "# run this program on the Mac to display image streams from multiple RPis\n",
    "import cv2\n",
    "import imagezmq\n",
    "\n",
    "image_hub = imagezmq.ImageHub()\n",
    "\n",
    "while True:  # show streamed images until Ctrl-C\n",
    "    rpi_name, image = image_hub.recv_image()\n",
    "    cv2.imshow(rpi_name, image) # 1 window for each RPi\n",
    "    cv2.waitKey(1)\n",
    "    image_hub.send_reply(b'OK')"
   ]
  },
  {
   "cell_type": "code",
   "execution_count": null,
   "id": "5a878a9e",
   "metadata": {},
   "outputs": [],
   "source": [
    "# autoconnect "
   ]
  },
  {
   "cell_type": "code",
   "execution_count": null,
   "id": "bf765a64",
   "metadata": {},
   "outputs": [],
   "source": [
    "import cv2\n",
    "import requests  \n",
    "import time  \n",
    "\n",
    "class VideoCapture:\n",
    "    def __init__(self, cam_address, cam_force_address=None, blocking=False):\n",
    "        \"\"\"\n",
    "        cam_address: ip address of the camera feed\n",
    "        cam_force_address: ip address to disconnect other clients (forcefully take over)\n",
    "        blocking: if true read() and connect_camera() methods blocked until ip camera is reconnected\n",
    "        \"\"\"\n",
    "        self.cam_address = cam_address\n",
    "        self.cam_force_address = cam_force_address\n",
    "        self.blocking = blocking\n",
    "        self.capture = None\n",
    "        \n",
    "        # NOTE: Can be increased to reduce printing\n",
    "        self.RECONNECTION_PERIOD = 0.5\n",
    "        # Calls the connect method\n",
    "        self.connect_camera()\n",
    "\n",
    "    def connect_camera(self):\n",
    "        print(\"Connecting...\")\n",
    "        while True:\n",
    "            try:\n",
    "                if self.cam_force_address is not None:\n",
    "                    requests.get(self.cam_force_address)\n",
    "\n",
    "                self.capture = cv2.VideoCapture(self.cam_address)\n",
    "\n",
    "                if not self.capture.isOpened():\n",
    "                    time.sleep(self.RECONNECTION_PERIOD)\n",
    "                    raise Exception(\"Could not connect to a camera: {0}\".format(self.cam_address))\n",
    "\n",
    "                print(\"Connected to a camera: {}\".format(self.cam_address))\n",
    "\n",
    "                break\n",
    "            except Exception as e:\n",
    "                print(e)\n",
    "\n",
    "                if self.blocking is False:\n",
    "                    break\n",
    "\n",
    "                time.sleep(self.RECONNECTION_PERIOD)\n",
    "\n",
    "    def getStream(self):\n",
    "        \"\"\"\n",
    "        Reads frame and if frame is not received tries to reconnect the camera\n",
    "\n",
    "        :return: ret - bool witch specifies if frame was read successfully\n",
    "                 frame - opencv image from the camera\n",
    "        \"\"\"\n",
    "\n",
    "        ret, frame = self.capture.read()\n",
    "\n",
    "        # If feed goes down we try to reconnect\n",
    "        if ret is False:\n",
    "            self.connect_camera()\n",
    "\n",
    "        return ret, frame"
   ]
  },
  {
   "cell_type": "code",
   "execution_count": null,
   "id": "e58c1197",
   "metadata": {},
   "outputs": [],
   "source": [
    "cap = VideoCapture(\"rtsp://wowzaec2demo.streamlock.net/vod/mp4:BigBuckBunny_115k.mov\")\n",
    "\n",
    "while(1):\n",
    "    ret, frame = cap.getStream()\n",
    "    \n",
    "    # Note this will keep the loop running until you force the program to exit\n",
    "    try:\n",
    "        cv2.imshow('RTSP Stream', frame)\n",
    "    except:\n",
    "        print(\"Feed has gone down...\")\n",
    "        \n",
    "    if cv2.waitKey(1) == 13: #13 is the Enter Key\n",
    "        print(\"Exited...\")\n",
    "        break\n",
    "        \n",
    "# Release camera and close windows\n",
    "cv2.destroyAllWindows()   "
   ]
  },
  {
   "cell_type": "code",
   "execution_count": null,
   "id": "b1e444fd",
   "metadata": {},
   "outputs": [],
   "source": []
  }
 ],
 "metadata": {
  "kernelspec": {
   "display_name": "Python 3 (ipykernel)",
   "language": "python",
   "name": "python3"
  },
  "language_info": {
   "codemirror_mode": {
    "name": "ipython",
    "version": 3
   },
   "file_extension": ".py",
   "mimetype": "text/x-python",
   "name": "python",
   "nbconvert_exporter": "python",
   "pygments_lexer": "ipython3",
   "version": "3.9.12"
  }
 },
 "nbformat": 4,
 "nbformat_minor": 5
}
