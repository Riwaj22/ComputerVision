{
 "cells": [
  {
   "cell_type": "code",
   "execution_count": 4,
   "id": "41de9a62",
   "metadata": {},
   "outputs": [],
   "source": [
    "import pyscreenshot as ImageGrab\n",
    "\n",
    "# grab fullscreen\n",
    "im = ImageGrab.grab()\n",
    "\n",
    "# save image file\n",
    "im.save('fullscreen.png')"
   ]
  },
  {
   "cell_type": "code",
   "execution_count": 2,
   "id": "39b5391d",
   "metadata": {},
   "outputs": [
    {
     "name": "stdout",
     "output_type": "stream",
     "text": [
      "Requirement already satisfied: Pillow in c:\\users\\97798\\anaconda3\\lib\\site-packages (9.0.1)\n",
      "Note: you may need to restart the kernel to use updated packages.\n"
     ]
    },
    {
     "name": "stderr",
     "output_type": "stream",
     "text": [
      "WARNING: Ignoring invalid distribution -atplotlib (c:\\users\\97798\\anaconda3\\lib\\site-packages)\n",
      "WARNING: Ignoring invalid distribution -atplotlib (c:\\users\\97798\\anaconda3\\lib\\site-packages)\n",
      "WARNING: Ignoring invalid distribution -atplotlib (c:\\users\\97798\\anaconda3\\lib\\site-packages)\n",
      "WARNING: Ignoring invalid distribution -atplotlib (c:\\users\\97798\\anaconda3\\lib\\site-packages)\n",
      "WARNING: Ignoring invalid distribution -atplotlib (c:\\users\\97798\\anaconda3\\lib\\site-packages)\n",
      "WARNING: Ignoring invalid distribution -atplotlib (c:\\users\\97798\\anaconda3\\lib\\site-packages)\n"
     ]
    }
   ],
   "source": [
    "pip install Pillow\n"
   ]
  },
  {
   "cell_type": "code",
   "execution_count": 3,
   "id": "ff4a1980",
   "metadata": {},
   "outputs": [
    {
     "name": "stdout",
     "output_type": "stream",
     "text": [
      "Collecting pyscreenshot\n",
      "  Downloading pyscreenshot-3.1-py3-none-any.whl (28 kB)\n",
      "Collecting mss\n",
      "  Downloading mss-9.0.1-py3-none-any.whl (22 kB)\n",
      "Collecting entrypoint2\n",
      "  Downloading entrypoint2-1.1-py2.py3-none-any.whl (9.9 kB)\n",
      "Collecting EasyProcess\n",
      "  Downloading EasyProcess-1.1-py3-none-any.whl (8.7 kB)\n",
      "Installing collected packages: mss, entrypoint2, EasyProcess, pyscreenshot\n",
      "Successfully installed EasyProcess-1.1 entrypoint2-1.1 mss-9.0.1 pyscreenshot-3.1\n",
      "Note: you may need to restart the kernel to use updated packages.\n"
     ]
    },
    {
     "name": "stderr",
     "output_type": "stream",
     "text": [
      "WARNING: Ignoring invalid distribution -atplotlib (c:\\users\\97798\\anaconda3\\lib\\site-packages)\n",
      "WARNING: Ignoring invalid distribution -atplotlib (c:\\users\\97798\\anaconda3\\lib\\site-packages)\n",
      "WARNING: Ignoring invalid distribution -atplotlib (c:\\users\\97798\\anaconda3\\lib\\site-packages)\n",
      "WARNING: Ignoring invalid distribution -atplotlib (c:\\users\\97798\\anaconda3\\lib\\site-packages)\n",
      "WARNING: Ignoring invalid distribution -atplotlib (c:\\users\\97798\\anaconda3\\lib\\site-packages)\n",
      "WARNING: Ignoring invalid distribution -atplotlib (c:\\users\\97798\\anaconda3\\lib\\site-packages)\n",
      "WARNING: Ignoring invalid distribution -atplotlib (c:\\users\\97798\\anaconda3\\lib\\site-packages)\n",
      "WARNING: Ignoring invalid distribution -atplotlib (c:\\users\\97798\\anaconda3\\lib\\site-packages)\n",
      "WARNING: Ignoring invalid distribution -atplotlib (c:\\users\\97798\\anaconda3\\lib\\site-packages)\n",
      "WARNING: Ignoring invalid distribution -atplotlib (c:\\users\\97798\\anaconda3\\lib\\site-packages)\n"
     ]
    }
   ],
   "source": [
    "pip install pyscreenshot"
   ]
  },
  {
   "cell_type": "code",
   "execution_count": 5,
   "id": "1e726317",
   "metadata": {},
   "outputs": [
    {
     "name": "stdout",
     "output_type": "stream",
     "text": [
      "FPS = 5.385632932928434\n",
      "FPS = 4.555386729080571\n",
      "FPS = 12.532693497156892\n",
      "FPS = 12.212803004935433\n",
      "FPS = 11.803403433826654\n",
      "FPS = 12.991212827970278\n",
      "FPS = 11.875119266366744\n",
      "FPS = 12.50504309663724\n",
      "FPS = 14.12023888877667\n",
      "FPS = 14.991275381277633\n",
      "FPS = 13.19191684096306\n",
      "FPS = 13.408900255754476\n",
      "FPS = 16.25573211378963\n",
      "FPS = 14.202381113624359\n",
      "FPS = 15.26872686103699\n",
      "FPS = 14.449813447618917\n",
      "FPS = 16.286724990195278\n",
      "FPS = 14.617100838139713\n",
      "FPS = 14.744378981115627\n",
      "FPS = 14.825210220665426\n",
      "FPS = 16.419211512188248\n",
      "FPS = 14.7339164646784\n",
      "FPS = 14.50091963878248\n",
      "FPS = 14.930440013811614\n",
      "FPS = 14.995134263579194\n",
      "FPS = 14.173633005883287\n",
      "FPS = 12.078350966716389\n",
      "FPS = 13.596548270082954\n",
      "FPS = 14.018067759109913\n",
      "FPS = 17.09191228906629\n",
      "FPS = 14.831973068164137\n",
      "FPS = 15.462244849056813\n",
      "FPS = 13.759395339072013\n",
      "FPS = 16.443350217190172\n",
      "FPS = 17.871982137835236\n",
      "FPS = 10.123002215603837\n",
      "FPS = 20.146810319568466\n",
      "FPS = 13.566467313781873\n",
      "FPS = 14.895656281185742\n",
      "FPS = 18.01707933125999\n",
      "FPS = 16.15411930997562\n",
      "FPS = 16.408484535517843\n",
      "FPS = 23.37558169992922\n",
      "FPS = 19.705074840031195\n",
      "FPS = 22.75000135600575\n",
      "FPS = 18.292173837196625\n",
      "FPS = 19.72796756456749\n",
      "FPS = 18.01228216337854\n",
      "FPS = 21.461156280540532\n",
      "FPS = 14.023879658823805\n",
      "FPS = 24.42653062413008\n",
      "FPS = 21.787007698141434\n",
      "FPS = 18.263181499527562\n",
      "FPS = 13.21144657059611\n",
      "FPS = 16.39386193256881\n",
      "FPS = 21.93650694030397\n",
      "FPS = 7.103968889784678\n",
      "FPS = 12.254157463567413\n",
      "FPS = 12.35934382946874\n",
      "FPS = 11.119664260320205\n",
      "FPS = 13.010878837605352\n",
      "FPS = 12.91580393050483\n",
      "FPS = 9.807429162009605\n",
      "FPS = 19.311947768512848\n",
      "FPS = 12.597096330468107\n",
      "FPS = 16.716368418955003\n",
      "FPS = 15.97477128862956\n",
      "FPS = 15.096710566571524\n",
      "FPS = 14.705246735033745\n",
      "FPS = 22.90855267110531\n",
      "FPS = 17.17442612747627\n",
      "FPS = 12.82148130259743\n",
      "FPS = 17.132684947286297\n",
      "FPS = 19.446523617885425\n",
      "FPS = 20.270661865983616\n",
      "FPS = 17.949997004271054\n",
      "FPS = 23.35826780423693\n",
      "FPS = 18.231269098195696\n",
      "FPS = 20.899937713331838\n",
      "FPS = 23.61378440612315\n",
      "FPS = 19.389618014303082\n",
      "FPS = 17.893483046364395\n",
      "FPS = 12.997613868074794\n",
      "FPS = 18.1841608969162\n",
      "FPS = 19.64324385080834\n",
      "FPS = 21.878264679648012\n",
      "FPS = 15.30829339864009\n",
      "FPS = 16.004212534579796\n",
      "FPS = 21.075633630132856\n",
      "FPS = 25.152040681706424\n",
      "FPS = 19.71980535508592\n",
      "Exited...\n"
     ]
    }
   ],
   "source": [
    "import numpy as np\n",
    "from PIL import ImageGrab\n",
    "import cv2\n",
    "import time\n",
    "\n",
    "last_time = time.time()\n",
    "\n",
    "while(True):\n",
    "    \n",
    "    frame = np.array(ImageGrab.grab(bbox=(0,0,300,300)))\n",
    "    \n",
    "    # Get fullscreen\n",
    "    #frame = np.array(ImageGrab.grab())\n",
    "    \n",
    "    # Display FPS rate\n",
    "    FPS = 1.0 / (time.time()-last_time)\n",
    "    print('FPS = {}'.format(FPS))\n",
    "    last_time = time.time()\n",
    "    \n",
    "    # Display Screen\n",
    "    cv2.imshow('window', cv2.cvtColor(frame, cv2.COLOR_BGR2RGB))\n",
    "    \n",
    "    if cv2.waitKey(1) == 13: #13 is the Enter Key\n",
    "        print(\"Exited...\")\n",
    "        break\n",
    "        \n",
    "cv2.destroyAllWindows()"
   ]
  },
  {
   "cell_type": "code",
   "execution_count": 6,
   "id": "f709b02d",
   "metadata": {},
   "outputs": [
    {
     "name": "stdout",
     "output_type": "stream",
     "text": [
      "Requirement already satisfied: mss in c:\\users\\97798\\anaconda3\\lib\\site-packages (9.0.1)\n",
      "Note: you may need to restart the kernel to use updated packages.\n"
     ]
    },
    {
     "name": "stderr",
     "output_type": "stream",
     "text": [
      "WARNING: Ignoring invalid distribution -atplotlib (c:\\users\\97798\\anaconda3\\lib\\site-packages)\n",
      "WARNING: Ignoring invalid distribution -atplotlib (c:\\users\\97798\\anaconda3\\lib\\site-packages)\n",
      "WARNING: Ignoring invalid distribution -atplotlib (c:\\users\\97798\\anaconda3\\lib\\site-packages)\n",
      "WARNING: Ignoring invalid distribution -atplotlib (c:\\users\\97798\\anaconda3\\lib\\site-packages)\n",
      "WARNING: Ignoring invalid distribution -atplotlib (c:\\users\\97798\\anaconda3\\lib\\site-packages)\n",
      "WARNING: Ignoring invalid distribution -atplotlib (c:\\users\\97798\\anaconda3\\lib\\site-packages)\n"
     ]
    }
   ],
   "source": [
    "pip install mss\n"
   ]
  },
  {
   "cell_type": "code",
   "execution_count": 7,
   "id": "0421744e",
   "metadata": {},
   "outputs": [
    {
     "name": "stdout",
     "output_type": "stream",
     "text": [
      "FPS = 29.105888067728394\n",
      "FPS = 62.135995970489766\n",
      "FPS = 68.61510273524408\n",
      "FPS = 64.11054216407074\n",
      "FPS = 70.9876279935686\n",
      "FPS = 57.08555407354983\n",
      "FPS = 63.50676054205466\n",
      "FPS = 56.78645022406953\n",
      "FPS = 60.26472025058192\n",
      "FPS = 64.29135946289796\n",
      "FPS = 60.19898383902173\n",
      "Exited...\n"
     ]
    }
   ],
   "source": [
    "import numpy as np\n",
    "import cv2\n",
    "from mss import mss\n",
    "from PIL import Image\n",
    "import time\n",
    "\n",
    "bounding_box = {'top': 100, 'left': 0, 'width': 400, 'height': 300}\n",
    "\n",
    "sct = mss()\n",
    "frame_count = 0 \n",
    "last_time = time.time()\n",
    "\n",
    "while True:\n",
    "    frame_count += 1\n",
    "    sct_img = sct.grab(bounding_box)\n",
    "    cv2.imshow('screen', np.array(sct_img))\n",
    "\n",
    "    # Display FPS rate\n",
    "    if frame_count % 30 == 0:\n",
    "        FPS = 1.0 / (time.time()-last_time)\n",
    "        print('FPS = {}'.format(FPS))\n",
    "    last_time = time.time()    \n",
    "\n",
    "    if cv2.waitKey(1) == 13: #13 is the Enter Key\n",
    "        print(\"Exited...\")\n",
    "        break\n",
    "        \n",
    "cv2.destroyAllWindows()"
   ]
  },
  {
   "cell_type": "code",
   "execution_count": null,
   "id": "981c089e",
   "metadata": {},
   "outputs": [],
   "source": []
  }
 ],
 "metadata": {
  "kernelspec": {
   "display_name": "Python 3 (ipykernel)",
   "language": "python",
   "name": "python3"
  },
  "language_info": {
   "codemirror_mode": {
    "name": "ipython",
    "version": 3
   },
   "file_extension": ".py",
   "mimetype": "text/x-python",
   "name": "python",
   "nbconvert_exporter": "python",
   "pygments_lexer": "ipython3",
   "version": "3.9.12"
  }
 },
 "nbformat": 4,
 "nbformat_minor": 5
}
